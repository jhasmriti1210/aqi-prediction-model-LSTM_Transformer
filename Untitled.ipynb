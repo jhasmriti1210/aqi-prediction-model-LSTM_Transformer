{
 "cells": [
  {
   "cell_type": "code",
   "execution_count": 1,
   "id": "1b3dd5b8-cfc3-4f14-83f5-311dbaeffe10",
   "metadata": {},
   "outputs": [
    {
     "name": "stdout",
     "output_type": "stream",
     "text": [
      "Model saved as rf_aqi_model.pkl\n"
     ]
    },
    {
     "name": "stdin",
     "output_type": "stream",
     "text": [
      "Enter current PM10 level:  267\n"
     ]
    },
    {
     "name": "stdout",
     "output_type": "stream",
     "text": [
      "Predicted AQI for next hour: 222.79 (Bad)\n"
     ]
    },
    {
     "data": {
      "image/png": "[encoded data removed]",
      "text/plain": [
       "<Figure size 800x400 with 1 Axes>"
      ]
     },
     "metadata": {},
     "output_type": "display_data"
    }
   ],
   "source": [
    "import pandas as pd\n",
    "import numpy as np\n",
    "import matplotlib.pyplot as plt\n",
    "import seaborn as sns\n",
    "import joblib\n",
    "from sklearn.model_selection import train_test_split\n",
    "from sklearn.ensemble import RandomForestRegressor\n",
    "from sklearn.metrics import mean_absolute_error, mean_squared_error, r2_score\n",
    "\n",
    "# Load Dataset\n",
    "file_path = 'delhi_aqi.csv'  # Correct path for dataset\n",
    "data = pd.read_csv(file_path)\n",
    "\n",
    "# Convert 'date' column to datetime\n",
    "data['date'] = pd.to_datetime(data['date'])\n",
    "\n",
    "# Handling Missing Values\n",
    "data.ffill(inplace=True)\n",
    "\n",
    "# Feature Engineering: Extracting datetime features\n",
    "data['hour'] = data['date'].dt.hour\n",
    "data['day'] = data['date'].dt.day\n",
    "data['month'] = data['date'].dt.month\n",
    "data['season'] = data['month'] % 12 // 3 + 1  # 1: Winter, 2: Spring, 3: Summer, 4: Fall\n",
    "\n",
    "# Creating Lag Features (Previous Hour Values)\n",
    "for col in ['co', 'no', 'no2', 'o3', 'so2', 'pm2_5', 'pm10', 'nh3']:\n",
    "    data[f'{col}_lag1'] = data[col].shift(1)\n",
    "\n",
    "# Creating Rolling Mean Features (24-hour moving average)\n",
    "for col in ['pm2_5', 'pm10']:\n",
    "    data[f'{col}_rolling24'] = data[col].rolling(window=24, min_periods=1).mean()\n",
    "\n",
    "# Drop rows with NaN values due to lag features\n",
    "data.dropna(inplace=True)\n",
    "\n",
    "# Define Target and Features\n",
    "target = 'pm2_5'  # Predicting PM2.5 levels\n",
    "features = [col for col in data.columns if col not in ['date', 'pm2_5']]  # Excluding target and datetime\n",
    "\n",
    "# Split Data into Training and Testing Sets\n",
    "X_train, X_test, y_train, y_test = train_test_split(data[features], data[target], test_size=0.2, random_state=42)\n",
    "\n",
    "# Train Random Forest Regressor\n",
    "rf_model = RandomForestRegressor(n_estimators=200, random_state=42, max_depth=10, min_samples_split=5)\n",
    "rf_model.fit(X_train, y_train)\n",
    "\n",
    "# Save the trained model\n",
    "model_filename = \"rf_aqi_model.pkl\"\n",
    "joblib.dump(rf_model, model_filename)\n",
    "print(f\"Model saved as {model_filename}\")\n",
    "\n",
    "# Get user input for PM10 levels\n",
    "pm10_input = float(input(\"Enter current PM10 level: \"))\n",
    "\n",
    "# Create DataFrame for user input\n",
    "input_data = pd.DataFrame(columns=features)\n",
    "input_data.loc[0] = data[features].mean()  # Initialize with mean values to prevent missing inputs\n",
    "\n",
    "# Set user input value\n",
    "input_data['pm10'] = pm10_input\n",
    "\n",
    "# Add necessary datetime-based features\n",
    "input_data['hour'] = pd.Timestamp.now().hour\n",
    "input_data['day'] = pd.Timestamp.now().day\n",
    "input_data['month'] = pd.Timestamp.now().month\n",
    "input_data['season'] = input_data['month'] % 12 // 3 + 1\n",
    "\n",
    "# Predict AQI for the next hour\n",
    "predicted_aqi = rf_model.predict(input_data)[0]\n",
    "\n",
    "def classify_aqi(value):\n",
    "    if value <= 50:\n",
    "        return 'Good'\n",
    "    elif value <= 100:\n",
    "        return 'Moderate'\n",
    "    else:\n",
    "        return 'Bad'\n",
    "\n",
    "aqi_category = classify_aqi(predicted_aqi)\n",
    "\n",
    "# Display result\n",
    "print(f\"Predicted AQI for next hour: {predicted_aqi:.2f} ({aqi_category})\")\n",
    "\n",
    "# Plot the predicted AQI\n",
    "df_pred = pd.DataFrame({'Date': [pd.Timestamp.now()], 'AQI Prediction': [predicted_aqi], 'Category': [aqi_category]})\n",
    "plt.figure(figsize=(8, 4))\n",
    "sns.barplot(x=df_pred['Date'].astype(str), y=df_pred['AQI Prediction'], hue=df_pred['Category'], palette={'Good': 'green', 'Moderate': 'orange', 'Bad': 'red'})\n",
    "plt.xlabel('Date & Time')\n",
    "plt.ylabel('Predicted AQI')\n",
    "plt.title('Predicted AQI for Next Hour')\n",
    "plt.legend()\n",
    "plt.grid()\n",
    "plt.show()"
   ]
  },
  {
   "cell_type": "code",
   "execution_count": null,
   "id": "bd08b29e-c2fb-46e3-9dd4-af2130c95cad",
   "metadata": {},
   "outputs": [],
   "source": []
  }
 ],
 "metadata": {
  "kernelspec": {
   "display_name": "Python [conda env:base] *",
   "language": "python",
   "name": "conda-base-py"
  },
  "language_info": {
   "codemirror_mode": {
    "name": "ipython",
    "version": 3
   },
   "file_extension": ".py",
   "mimetype": "text/x-python",
   "name": "python",
   "nbconvert_exporter": "python",
   "pygments_lexer": "ipython3",
   "version": "3.12.7"
  }
 },
 "nbformat": 4,
 "nbformat_minor": 5
}
